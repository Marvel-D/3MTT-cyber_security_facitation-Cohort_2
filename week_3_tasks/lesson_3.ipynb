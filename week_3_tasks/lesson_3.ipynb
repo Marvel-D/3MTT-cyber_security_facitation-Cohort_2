{
 "cells": [
  {
   "cell_type": "markdown",
   "metadata": {},
   "source": [
    "## Task 1\n",
    "Develop an algorithm that only allows login of 3MTT fellows in your Team."
   ]
  },
  {
   "cell_type": "code",
   "execution_count": 1,
   "metadata": {},
   "outputs": [
    {
     "name": "stdout",
     "output_type": "stream",
     "text": [
      "unauthorized fellow\n"
     ]
    }
   ],
   "source": [
    "fellow_id = input(\"Provide fellow ID:\")\n",
    "\n",
    "pluto_fellows = [\"FE12232\", \"FE31223\", \"111\"]\n",
    "\n",
    "# for fellow in pluto_fellows:\n",
    "if fellow_id in pluto_fellows:\n",
    "    print(\"welcome fellow\", fellow_id)\n",
    "else:\n",
    "    print(\"unauthorized fellow\")"
   ]
  },
  {
   "cell_type": "markdown",
   "metadata": {},
   "source": [
    "## Version 2"
   ]
  },
  {
   "cell_type": "code",
   "execution_count": 4,
   "metadata": {},
   "outputs": [
    {
     "name": "stdout",
     "output_type": "stream",
     "text": [
      "welcome fellow marvel with id: 112\n"
     ]
    }
   ],
   "source": [
    "fellow_id = input(\"Provide your ID:\")\n",
    "fellow_name = input(\"Provide your name:\")\n",
    "\n",
    "with open(\"allowed.txt\", \"r\") as file:\n",
    "    fellow_list = file.read()\n",
    "fellow_list = fellow_list.split()\n",
    "\n",
    "\n",
    "if fellow_id in fellow_list:\n",
    "    print(\"welcome fellow\", fellow_name, \"with id:\", fellow_id)\n",
    "else:\n",
    "    print(\"unauthorized fellow\")\n"
   ]
  },
  {
   "cell_type": "markdown",
   "metadata": {},
   "source": [
    "## Version 3"
   ]
  },
  {
   "cell_type": "code",
   "execution_count": 18,
   "metadata": {},
   "outputs": [
    {
     "name": "stdout",
     "output_type": "stream",
     "text": [
      "unautorized fellow\n"
     ]
    }
   ],
   "source": [
    "fellow_id = input(\"Provide your ID:\")\n",
    "fellow_name = input(\"Provide your name:\")\n",
    "\n",
    "class Fellow:\n",
    "    def __init__(self, id, name):\n",
    "        self.name = name\n",
    "        self.id = id\n",
    "    \n",
    "    def __str__(self):\n",
    "        return f\"welcome fellow {self.name}, with id: {self.id}\"\n",
    "\n",
    "with open(\"allowed.txt\", \"r\") as file:\n",
    "    fellow_list = file.read()\n",
    "fellow_list = fellow_list.split()\n",
    "\n",
    "\n",
    "fellow_details = Fellow(fellow_id, fellow_name)\n",
    "\n",
    "if fellow_details.id in fellow_list:\n",
    "    print(fellow_details)\n",
    "else:\n",
    "    print(\"unauthorized fellow\")\n",
    "\n"
   ]
  }
 ],
 "metadata": {
  "kernelspec": {
   "display_name": "Python 3",
   "language": "python",
   "name": "python3"
  },
  "language_info": {
   "codemirror_mode": {
    "name": "ipython",
    "version": 3
   },
   "file_extension": ".py",
   "mimetype": "text/x-python",
   "name": "python",
   "nbconvert_exporter": "python",
   "pygments_lexer": "ipython3",
   "version": "3.12.0"
  }
 },
 "nbformat": 4,
 "nbformat_minor": 2
}
