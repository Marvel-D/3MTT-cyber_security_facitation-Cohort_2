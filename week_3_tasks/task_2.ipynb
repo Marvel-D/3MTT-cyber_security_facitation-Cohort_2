{
 "cells": [
  {
   "cell_type": "code",
   "execution_count": 6,
   "metadata": {},
   "outputs": [
    {
     "name": "stdout",
     "output_type": "stream",
     "text": [
      "fellows 111 removed\n"
     ]
    }
   ],
   "source": [
    "import_file = \"allowed.txt\"\n",
    "\n",
    "with open(import_file, \"r\") as file:\n",
    "    fellow_list = file.read()\n",
    "fellow_list = fellow_list.split()\n",
    "# print(fellow_list)\n",
    "remove_list = [\"111\", \"112\"]\n",
    "\n",
    "for ele in remove_list:\n",
    "    if ele in fellow_list:\n",
    "        fellow_list.remove(ele)\n",
    "    print(\"fellows\", ele, \"removed\")\n",
    "else:\n",
    "    print(\"No such ID in allow list\")\n",
    "\n",
    "fellow_list = \"\\n\".join(fellow_list)\n",
    "\n",
    "with open(import_file, \"w\") as file:\n",
    "    file.write(fellow_list)"
   ]
  }
 ],
 "metadata": {
  "kernelspec": {
   "display_name": "Python 3",
   "language": "python",
   "name": "python3"
  },
  "language_info": {
   "codemirror_mode": {
    "name": "ipython",
    "version": 3
   },
   "file_extension": ".py",
   "mimetype": "text/x-python",
   "name": "python",
   "nbconvert_exporter": "python",
   "pygments_lexer": "ipython3",
   "version": "3.12.0"
  }
 },
 "nbformat": 4,
 "nbformat_minor": 2
}
