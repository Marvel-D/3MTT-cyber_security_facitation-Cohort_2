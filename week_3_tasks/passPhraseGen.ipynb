{
 "cells": [
  {
   "cell_type": "code",
   "execution_count": 2,
   "metadata": {},
   "outputs": [
    {
     "name": "stdout",
     "output_type": "stream",
     "text": [
      "['i', 'am', 'who', 'i', 'am']\n",
      "['i', 'a', 'w', 'i', 'a']\n",
      "iawia\n",
      "iawia@fsdsff12s\n"
     ]
    }
   ],
   "source": [
    "get_fellow_id = input(\"Halt, who goes there...\")\n",
    "user_fav_quote = input(\"What is your favorite quote...\")\n",
    "\n",
    "# Split the quote into words\n",
    "arr1 = user_fav_quote.split(\" \")\n",
    "print(arr1)\n",
    "\n",
    "# Randomly select special symbol\n",
    "special_symbol = \"@\"\n",
    "fellow_id = get_fellow_id\n",
    "\n",
    "if len(arr1) < 5:\n",
    "    print(\"quote too short\")\n",
    "else:\n",
    "    pass_phrase_arr = []\n",
    "\n",
    "    for element in arr1:\n",
    "        # Get the first character of each word\n",
    "        pass_phrase_arr.append(element[0])\n",
    "\n",
    "    print(pass_phrase_arr)\n",
    "\n",
    "    # Join the first characters to create the pass front string\n",
    "    pass_front_string = ''.join(pass_phrase_arr)\n",
    "\n",
    "    # Generate the pass phrase\n",
    "    generated_pass_phrase = f\"{pass_front_string}{special_symbol}{fellow_id}\"\n",
    "    print(generated_pass_phrase)\n"
   ]
  }
 ],
 "metadata": {
  "kernelspec": {
   "display_name": "Python 3",
   "language": "python",
   "name": "python3"
  },
  "language_info": {
   "codemirror_mode": {
    "name": "ipython",
    "version": 3
   },
   "file_extension": ".py",
   "mimetype": "text/x-python",
   "name": "python",
   "nbconvert_exporter": "python",
   "pygments_lexer": "ipython3",
   "version": "3.12.0"
  }
 },
 "nbformat": 4,
 "nbformat_minor": 2
}
